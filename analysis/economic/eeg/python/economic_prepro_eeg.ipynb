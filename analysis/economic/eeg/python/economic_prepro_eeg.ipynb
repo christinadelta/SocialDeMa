{
 "cells": [
  {
   "cell_type": "code",
   "execution_count": null,
   "id": "826d23cb-25f5-400e-a12b-df545290295f",
   "metadata": {},
   "outputs": [],
   "source": [
    "# import matplotlib.pyplot as plt\n",
    "import pathlib\n",
    "import mne\n",
    "from mne.preprocessing import create_ecg_epochs, create_eog_epochs\n",
    "from mne.time_frequency import tfr_morlet, psd_multitaper, psd_welch\n",
    "from mne.channels.montage import get_builtin_montages\n",
    "from mne.io import read_raw_bdf, concatenate_raws\n",
    "import os\n",
    "import numpy as np\n",
    "from numpy import savetxt\n",
    "from numpy import loadtxt\n",
    "\n",
    "import matplotlib\n",
    "matplotlib.use('Qt5Agg')"
   ]
  },
  {
   "cell_type": "code",
   "execution_count": null,
   "id": "b8f04ef4-419b-48dd-b1a6-1bf4fb3aa3ae",
   "metadata": {},
   "outputs": [],
   "source": [
    "# define path:\n",
    "data_folder = '/Users/christinadelta/Desktop/os_data/economic/sub-10'\n",
    "\n",
    "raw_file = os.path.join(data_folder, 'sub_10_economic_block_01.bdf')\n",
    "raw = read_raw_bdf(raw_file,eog=['EXG3', 'EXG4','EXG5', 'EXG6'], stim_channel='auto',\n",
    "                   exclude=(['EXG7', 'EXG8']), preload=True)"
   ]
  },
  {
   "cell_type": "code",
   "execution_count": null,
   "id": "c04cbef1-8806-4d06-9598-92e5ed9793bc",
   "metadata": {},
   "outputs": [],
   "source": [
    "raw.plot()"
   ]
  },
  {
   "cell_type": "code",
   "execution_count": null,
   "id": "7773dc21-c8e0-4378-9cc6-2c18b074e453",
   "metadata": {},
   "outputs": [],
   "source": [
    "events = mne.find_events(raw)"
   ]
  },
  {
   "cell_type": "code",
   "execution_count": null,
   "id": "5fb71c59-3cbf-4ccf-8604-5f5890868c05",
   "metadata": {},
   "outputs": [],
   "source": [
    "\n",
    "event_id = {\n",
    "    \"sample\": 1,\n",
    "    \"feed_1\": 13,\n",
    "    \"feed_2\": 14,\n",
    "    \"resprompt\": 15,\n",
    "    \"start\": 100,\n",
    "    \"end\": 101\n",
    "}"
   ]
  },
  {
   "cell_type": "code",
   "execution_count": null,
   "id": "bd5521a7-17af-476f-af8e-cb4277857ab4",
   "metadata": {},
   "outputs": [],
   "source": [
    "\n",
    "event_id = {\n",
    "    \"sample\": 1,\n",
    "    \"feed_1\": 13,\n",
    "    \"resprompt\": 15,\n",
    "    \"start\": 100,\n",
    "    \"end\": 101\n",
    "}"
   ]
  },
  {
   "cell_type": "code",
   "execution_count": null,
   "id": "e4cde8f3-6258-415d-90e7-48fea9d6e21b",
   "metadata": {},
   "outputs": [],
   "source": [
    "filtered = raw.copy().filter(l_freq=1, h_freq=20) \n",
    "\n",
    "filtered.plot(title='filtered')\n",
    "#filtered2.plot(title='filtered2')"
   ]
  },
  {
   "cell_type": "code",
   "execution_count": null,
   "id": "888dfc1d-3586-4da0-97c6-2e76115187e0",
   "metadata": {},
   "outputs": [],
   "source": [
    "# re-reference\n",
    "ref_channels = ['EXG1', 'EXG2']\n",
    "filtered.set_eeg_reference(ref_channels)"
   ]
  },
  {
   "cell_type": "code",
   "execution_count": null,
   "id": "70bd5c95-c597-4d81-9b5a-9a25b395c7bf",
   "metadata": {},
   "outputs": [],
   "source": [
    "filtered.plot()"
   ]
  },
  {
   "cell_type": "code",
   "execution_count": null,
   "id": "9686877e-b639-4980-b85b-b2fd14ae59c4",
   "metadata": {},
   "outputs": [],
   "source": [
    "biosemi_montage = mne.channels.make_standard_montage('biosemi64')\n",
    "filtered.set_channel_types({'EXG1': 'misc', 'EXG2': 'misc'})\n",
    "filtered_montage = filtered.copy().set_montage(biosemi_montage, on_missing='warn')\n",
    "filtered_montage.plot()"
   ]
  },
  {
   "cell_type": "code",
   "execution_count": null,
   "id": "b0aefb84-2de9-4885-8af4-9f8561547564",
   "metadata": {},
   "outputs": [],
   "source": [
    "ica = mne.preprocessing.ICA(n_components=20, random_state=0)\n",
    "ica.fit(filtered_montage)\n",
    "filtered_montage.load_data()\n",
    "ica.plot_sources(filtered, show_scrollbars=True)"
   ]
  },
  {
   "cell_type": "code",
   "execution_count": null,
   "id": "9c9530d2-a63c-4f46-9352-7a592226a642",
   "metadata": {},
   "outputs": [],
   "source": [
    "ica.plot_components()"
   ]
  },
  {
   "cell_type": "code",
   "execution_count": null,
   "id": "c66c5e59-afb6-4664-8537-af47f9f64f26",
   "metadata": {},
   "outputs": [],
   "source": [
    "# try the find_bads_eog() algorithm \n",
    "bad_idx, scores = ica.find_bads_eog(filtered_montage, ch_name=(['EXG3','EXG4','EXG5','EXG6']), threshold=2)\n",
    "print(bad_idx)"
   ]
  },
  {
   "cell_type": "code",
   "execution_count": null,
   "id": "8bc515a8-c70a-4eb9-b3c5-def98a901ee5",
   "metadata": {},
   "outputs": [],
   "source": [
    "# ica.exclude = [0, 1, 6, 8, 9, 10] \n",
    "ica.exclude = bad_idx \n",
    "ica.apply(filtered_montage, exclude=ica.exclude).plot(events = events, event_id = event_id)"
   ]
  },
  {
   "cell_type": "code",
   "execution_count": null,
   "id": "c50254c9-bb49-44ff-85e7-e8c7c027a857",
   "metadata": {},
   "outputs": [],
   "source": [
    "stimulus_epochs = mne.Epochs(filtered_montage, events, event_id=event_id, tmin=-0.3, tmax=0.8, preload=True)\n",
    "fig = stimulus_epochs.plot(events = events, event_id = event_id)"
   ]
  },
  {
   "cell_type": "code",
   "execution_count": null,
   "id": "077572da-ad02-495b-b83d-e07813908dcb",
   "metadata": {},
   "outputs": [],
   "source": [
    "# Downsample to 100 Hz\n",
    "print('Original sampling rate:', stimulus_epochs.info['sfreq'], 'Hz')\n",
    "epochs_resampled = stimulus_epochs.resample(256, npad=\"auto\")\n",
    "print('New sampling rate:', epochs_resampled.info['sfreq'], 'Hz')"
   ]
  },
  {
   "cell_type": "code",
   "execution_count": null,
   "id": "3a09dcc9-2ca3-48ca-9f29-966463446dbe",
   "metadata": {},
   "outputs": [],
   "source": [
    "aver_epochs = epochs_resampled['sample'].average()"
   ]
  },
  {
   "cell_type": "code",
   "execution_count": null,
   "id": "98191d16-6d65-4fc0-9eb0-024da86c9bfc",
   "metadata": {},
   "outputs": [],
   "source": [
    "fig1 = aver_epochs.plot()"
   ]
  },
  {
   "cell_type": "code",
   "execution_count": null,
   "id": "34867acb-ee89-4590-ac90-39c75cc6e55f",
   "metadata": {},
   "outputs": [],
   "source": [
    "filtered_montage.plot()"
   ]
  },
  {
   "cell_type": "code",
   "execution_count": null,
   "id": "e3c09091-3cb1-4c4e-a91c-91b73ecb562e",
   "metadata": {},
   "outputs": [],
   "source": [
    "frontal_total = ['F1', 'F3', 'F5', 'F7', 'F2', 'F4', 'F6', 'F8', 'Fz']\n",
    "parietal_total = ['P1', 'P3', 'P5', 'P7', 'P9', 'P2', 'P4', 'P6', 'P8', 'P10', 'Pz']"
   ]
  },
  {
   "cell_type": "code",
   "execution_count": null,
   "id": "456be81e-e944-4215-b73c-5956e23fd730",
   "metadata": {},
   "outputs": [],
   "source": [
    "evokeds = dict(average_frontal=aver_epochs)\n",
    "picks = [f'F{n}' for n in range(1,9)]\n",
    "mne.viz.plot_compare_evokeds(evokeds, picks=picks, combine='mean')"
   ]
  },
  {
   "cell_type": "code",
   "execution_count": null,
   "id": "0bb4d827-1227-4877-9c19-57cea1789138",
   "metadata": {},
   "outputs": [],
   "source": [
    "evokeds = dict(average_parietal=aver_epochs)\n",
    "picks = [f'P{n}' for n in range(1,12)]\n",
    "mne.viz.plot_compare_evokeds(evokeds, picks=picks, combine='mean')"
   ]
  },
  {
   "cell_type": "code",
   "execution_count": null,
   "id": "835e3941-a0ff-4c5a-bab8-c2b5def6e084",
   "metadata": {},
   "outputs": [],
   "source": []
  }
 ],
 "metadata": {
  "kernelspec": {
   "display_name": "Python 3 (ipykernel)",
   "language": "python",
   "name": "python3"
  },
  "language_info": {
   "codemirror_mode": {
    "name": "ipython",
    "version": 3
   },
   "file_extension": ".py",
   "mimetype": "text/x-python",
   "name": "python",
   "nbconvert_exporter": "python",
   "pygments_lexer": "ipython3",
   "version": "3.8.9"
  }
 },
 "nbformat": 4,
 "nbformat_minor": 5
}
