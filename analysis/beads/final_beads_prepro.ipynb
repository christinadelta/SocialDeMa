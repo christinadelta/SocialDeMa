{
 "cells": [
  {
   "cell_type": "code",
   "execution_count": 1,
   "id": "3cd0b07e-4f9c-4d9c-bdec-376d7a934f2f",
   "metadata": {},
   "outputs": [],
   "source": [
    "# import matplotlib.pyplot as plt\n",
    "import pathlib\n",
    "import mne\n",
    "from mne.preprocessing import create_ecg_epochs, create_eog_epochs\n",
    "from mne.channels.montage import get_builtin_montages\n",
    "from mne.io import read_raw_bdf, concatenate_raws\n",
    "import os\n",
    "import numpy as np\n",
    "from numpy import savetxt\n",
    "from numpy import loadtxt"
   ]
  },
  {
   "cell_type": "code",
   "execution_count": 2,
   "id": "db315926-33a0-4a17-9f4e-494a2f6a562e",
   "metadata": {},
   "outputs": [],
   "source": [
    "import matplotlib\n",
    "matplotlib.use('Qt5Agg')"
   ]
  },
  {
   "cell_type": "code",
   "execution_count": 3,
   "id": "d997ccd3-8740-49be-9c08-241a15068e8a",
   "metadata": {},
   "outputs": [
    {
     "name": "stdout",
     "output_type": "stream",
     "text": [
      "Extracting EDF parameters from /Users/christinadelta/Desktop/beads_pilot/beads/sub_test_01.bdf...\n",
      "BDF file detected\n",
      "Setting channel info structure...\n",
      "Creating raw.info structure...\n",
      "Reading 0 ... 956415  =      0.000 ...   467.000 secs...\n"
     ]
    }
   ],
   "source": [
    "data_folder = '/Users/christinadelta/Desktop/beads_pilot/beads'\n",
    "raw_file = os.path.join(data_folder, 'sub_test_01.bdf')\n",
    "\n",
    "raw1 = read_raw_bdf(raw_file, preload=True)\n",
    "#raw = mne.io.read_raw_fif(raw_file)"
   ]
  },
  {
   "cell_type": "code",
   "execution_count": 4,
   "id": "6eea3d46-9f90-4244-beaf-b031e4bc2322",
   "metadata": {},
   "outputs": [
    {
     "name": "stdout",
     "output_type": "stream",
     "text": [
      "Extracting EDF parameters from /Users/christinadelta/Desktop/beads_pilot/beads/sub_test_01_block_02.bdf...\n",
      "BDF file detected\n",
      "Setting channel info structure...\n",
      "Creating raw.info structure...\n",
      "Reading 0 ... 761855  =      0.000 ...   372.000 secs...\n"
     ]
    }
   ],
   "source": [
    "raw2_file = os.path.join(data_folder, 'sub_test_01_block_02.bdf')\n",
    "\n",
    "raw2 = read_raw_bdf(raw2_file, preload=True)\n",
    "#raw = mne.io.read_raw_fif(raw_file)"
   ]
  },
  {
   "cell_type": "code",
   "execution_count": 5,
   "id": "36d463a0-e138-4219-9327-34561cf590ef",
   "metadata": {},
   "outputs": [
    {
     "name": "stdout",
     "output_type": "stream",
     "text": [
      "Extracting EDF parameters from /Users/christinadelta/Desktop/beads_pilot/beads/sub_test_01_block_03.bdf...\n",
      "BDF file detected\n",
      "Setting channel info structure...\n",
      "Creating raw.info structure...\n",
      "Reading 0 ... 745471  =      0.000 ...   364.000 secs...\n"
     ]
    }
   ],
   "source": [
    "raw3_file = os.path.join(data_folder, 'sub_test_01_block_03.bdf')\n",
    "\n",
    "raw3 = read_raw_bdf(raw3_file, preload=True)\n",
    "#raw = mne.io.read_raw_fif(raw_file)"
   ]
  },
  {
   "cell_type": "code",
   "execution_count": 6,
   "id": "62ffd292-7191-489d-a9d0-819e73f821cf",
   "metadata": {},
   "outputs": [
    {
     "name": "stdout",
     "output_type": "stream",
     "text": [
      "Extracting EDF parameters from /Users/christinadelta/Desktop/beads_pilot/beads/sub_test_01_block_04.bdf...\n",
      "BDF file detected\n",
      "Setting channel info structure...\n",
      "Creating raw.info structure...\n",
      "Reading 0 ... 673791  =      0.000 ...   329.000 secs...\n"
     ]
    }
   ],
   "source": [
    "raw4_file = os.path.join(data_folder, 'sub_test_01_block_04.bdf')\n",
    "\n",
    "raw4 = read_raw_bdf(raw4_file, preload=True)\n",
    "#raw = mne.io.read_raw_fif(raw_file)"
   ]
  },
  {
   "cell_type": "code",
   "execution_count": 7,
   "id": "e776e795-e94f-497f-935f-bed21e9acaf3",
   "metadata": {},
   "outputs": [
    {
     "data": {
      "text/html": [
       "\n",
       "\n",
       "<table class=\"table table-hover\">\n",
       "    <tr>\n",
       "        <th>Measurement date</th>\n",
       "        <td>October 14, 2021  18:29:12 GMT</td>\n",
       "        \n",
       "    </tr>\n",
       "    <tr>\n",
       "        <th>Experimenter</th>\n",
       "<td>Unknown</td>\n",
       "    </tr>\n",
       "        <th>Participant</th>\n",
       "<td>Unknown</td>\n",
       "    </tr>\n",
       "    <tr>\n",
       "        <th>Digitized points</th>\n",
       "        <td>Not available</td>\n",
       "    </tr>\n",
       "    <tr>\n",
       "        <th>Good channels</th>\n",
       "        <td>0 magnetometer, 0 gradiometer,\n",
       "            and 70 EEG channels</td>\n",
       "    </tr>\n",
       "    <tr>\n",
       "        <th>Bad channels</th>\n",
       "        <td></td>\n",
       "        \n",
       "    </tr>\n",
       "    <tr>\n",
       "        <th>EOG channels</th>\n",
       "        <td>Not available</td>\n",
       "    </tr>\n",
       "    <tr>\n",
       "        <th>ECG channels</th>\n",
       "        <td>Not available</td>\n",
       "    <tr>\n",
       "        <th>Sampling frequency</th>\n",
       "        <td>2048.00 Hz</td>\n",
       "    </tr>\n",
       "    <tr>\n",
       "        <th>Highpass</th>\n",
       "        <td>0.00 Hz</td>\n",
       "    </tr>\n",
       "     <tr>\n",
       "        <th>Lowpass</th>\n",
       "        <td>417.00 Hz</td>\n",
       "    </tr>\n",
       "\n",
       "    <tr>\n",
       "        <th>Filenames</th>\n",
       "        <td>sub_test_01.bdf</td>\n",
       "    </tr>\n",
       "    <tr>\n",
       "        <th>Duration</th>\n",
       "        <td>00:07:46 (HH:MM:SS)</td>\n",
       "    </tr>\n",
       "</table>\n"
      ],
      "text/plain": [
       "<RawEDF | sub_test_01.bdf, 71 x 956416 (467.0 s), ~518.1 MB, data loaded>"
      ]
     },
     "execution_count": 7,
     "metadata": {},
     "output_type": "execute_result"
    }
   ],
   "source": [
    "raw1.drop_channels(['EXG7', 'EXG8', 'GSR1', 'GSR2', 'Erg1', 'Erg2', 'Resp', 'Plet', 'Temp'])\n",
    "#raw1.plot()"
   ]
  },
  {
   "cell_type": "code",
   "execution_count": 8,
   "id": "be9a6fb7-d969-45c9-94d6-e678c5445b7b",
   "metadata": {},
   "outputs": [
    {
     "data": {
      "text/html": [
       "\n",
       "\n",
       "<table class=\"table table-hover\">\n",
       "    <tr>\n",
       "        <th>Measurement date</th>\n",
       "        <td>October 14, 2021  19:04:32 GMT</td>\n",
       "        \n",
       "    </tr>\n",
       "    <tr>\n",
       "        <th>Experimenter</th>\n",
       "<td>Unknown</td>\n",
       "    </tr>\n",
       "        <th>Participant</th>\n",
       "<td>Unknown</td>\n",
       "    </tr>\n",
       "    <tr>\n",
       "        <th>Digitized points</th>\n",
       "        <td>Not available</td>\n",
       "    </tr>\n",
       "    <tr>\n",
       "        <th>Good channels</th>\n",
       "        <td>0 magnetometer, 0 gradiometer,\n",
       "            and 70 EEG channels</td>\n",
       "    </tr>\n",
       "    <tr>\n",
       "        <th>Bad channels</th>\n",
       "        <td></td>\n",
       "        \n",
       "    </tr>\n",
       "    <tr>\n",
       "        <th>EOG channels</th>\n",
       "        <td>Not available</td>\n",
       "    </tr>\n",
       "    <tr>\n",
       "        <th>ECG channels</th>\n",
       "        <td>Not available</td>\n",
       "    <tr>\n",
       "        <th>Sampling frequency</th>\n",
       "        <td>2048.00 Hz</td>\n",
       "    </tr>\n",
       "    <tr>\n",
       "        <th>Highpass</th>\n",
       "        <td>0.00 Hz</td>\n",
       "    </tr>\n",
       "     <tr>\n",
       "        <th>Lowpass</th>\n",
       "        <td>417.00 Hz</td>\n",
       "    </tr>\n",
       "\n",
       "    <tr>\n",
       "        <th>Filenames</th>\n",
       "        <td>sub_test_01_block_04.bdf</td>\n",
       "    </tr>\n",
       "    <tr>\n",
       "        <th>Duration</th>\n",
       "        <td>00:05:28 (HH:MM:SS)</td>\n",
       "    </tr>\n",
       "</table>\n"
      ],
      "text/plain": [
       "<RawEDF | sub_test_01_block_04.bdf, 71 x 673792 (329.0 s), ~365.1 MB, data loaded>"
      ]
     },
     "execution_count": 8,
     "metadata": {},
     "output_type": "execute_result"
    }
   ],
   "source": [
    "raw2.drop_channels(['EXG7', 'EXG8'])\n",
    "#raw2.plot()\n",
    "raw3.drop_channels(['EXG7', 'EXG8'])\n",
    "raw4.drop_channels(['EXG7', 'EXG8'])"
   ]
  },
  {
   "cell_type": "code",
   "execution_count": 9,
   "id": "ac07fc48-0ecd-4bce-9cf0-4bc7006e035b",
   "metadata": {},
   "outputs": [],
   "source": [
    "raws = [] # create empty list to store the raws"
   ]
  },
  {
   "cell_type": "code",
   "execution_count": 10,
   "id": "76cb2dec-4f5c-474e-925d-19ed17b61cbb",
   "metadata": {},
   "outputs": [
    {
     "data": {
      "text/plain": [
       "[<RawEDF | sub_test_01.bdf, 71 x 956416 (467.0 s), ~518.1 MB, data loaded>,\n",
       " <RawEDF | sub_test_01_block_02.bdf, 71 x 761856 (372.0 s), ~412.8 MB, data loaded>,\n",
       " <RawEDF | sub_test_01_block_03.bdf, 71 x 745472 (364.0 s), ~403.9 MB, data loaded>,\n",
       " <RawEDF | sub_test_01_block_04.bdf, 71 x 673792 (329.0 s), ~365.1 MB, data loaded>]"
      ]
     },
     "execution_count": 10,
     "metadata": {},
     "output_type": "execute_result"
    }
   ],
   "source": [
    "raws.append(raw1)\n",
    "raws.append(raw2)\n",
    "raws.append(raw3)\n",
    "raws.append(raw4)\n",
    "raws"
   ]
  },
  {
   "cell_type": "code",
   "execution_count": 11,
   "id": "15a475cc-0499-4437-8a48-41709847b2f6",
   "metadata": {},
   "outputs": [],
   "source": [
    "raw = concatenate_raws(raws)"
   ]
  },
  {
   "cell_type": "code",
   "execution_count": null,
   "id": "0f6c09fd-70d0-4285-9080-cb157b05650b",
   "metadata": {},
   "outputs": [],
   "source": [
    "raw.plot()"
   ]
  },
  {
   "cell_type": "code",
   "execution_count": 12,
   "id": "9cb4b4bd-a2ae-409e-9a55-fa97cec23b4b",
   "metadata": {},
   "outputs": [
    {
     "name": "stdout",
     "output_type": "stream",
     "text": [
      "Trigger channel has a non-zero initial value of 65536 (consider using initial_event=True to detect this event)\n",
      "Removing orphaned offset at the beginning of the file.\n",
      "1051 events found\n",
      "Event IDs: [    1     2     3     4     5     6     7     8     9    10    14    15\n",
      "   100   101   102   103 65536]\n"
     ]
    }
   ],
   "source": [
    "events = mne.find_events(raw)"
   ]
  },
  {
   "cell_type": "code",
   "execution_count": 13,
   "id": "b6367af0-0e72-4cc6-87c6-69d6539835aa",
   "metadata": {},
   "outputs": [
    {
     "data": {
      "text/plain": [
       "(294, 3)"
      ]
     },
     "execution_count": 13,
     "metadata": {},
     "output_type": "execute_result"
    }
   ],
   "source": [
    "events1 = events[0:294]\n",
    "events1.shape"
   ]
  },
  {
   "cell_type": "code",
   "execution_count": 14,
   "id": "9c6f657c-fa97-429a-b664-24f6af04d57a",
   "metadata": {},
   "outputs": [
    {
     "data": {
      "text/plain": [
       "(255, 3)"
      ]
     },
     "execution_count": 14,
     "metadata": {},
     "output_type": "execute_result"
    }
   ],
   "source": [
    "events2 = events[295:550]\n",
    "events2.shape"
   ]
  },
  {
   "cell_type": "code",
   "execution_count": 15,
   "id": "d66bd611-8cb9-4a85-8db5-92c5524102da",
   "metadata": {},
   "outputs": [
    {
     "data": {
      "text/plain": [
       "(265, 3)"
      ]
     },
     "execution_count": 15,
     "metadata": {},
     "output_type": "execute_result"
    }
   ],
   "source": [
    "events3 = events[550:815]\n",
    "events3.shape"
   ]
  },
  {
   "cell_type": "code",
   "execution_count": 16,
   "id": "7938620a-0068-4f7a-b7d0-c2c00345b9bc",
   "metadata": {},
   "outputs": [
    {
     "data": {
      "text/plain": [
       "(236, 3)"
      ]
     },
     "execution_count": 16,
     "metadata": {},
     "output_type": "execute_result"
    }
   ],
   "source": [
    "events4 = events[815:1051]\n",
    "events4.shape"
   ]
  },
  {
   "cell_type": "code",
   "execution_count": 17,
   "id": "99b8b604-51d6-4f52-a250-cbcef0766a80",
   "metadata": {},
   "outputs": [
    {
     "data": {
      "text/plain": [
       "(294,)"
      ]
     },
     "execution_count": 17,
     "metadata": {},
     "output_type": "execute_result"
    }
   ],
   "source": [
    "events_block1 = loadtxt('newevents.csv', delimiter=',')\n",
    "events_block1 = np.int8(events_block1)\n",
    "events_block1.shape"
   ]
  },
  {
   "cell_type": "code",
   "execution_count": 18,
   "id": "c3a5fb3f-19b6-4988-83c8-e43b129a3990",
   "metadata": {},
   "outputs": [
    {
     "data": {
      "text/plain": [
       "(255,)"
      ]
     },
     "execution_count": 18,
     "metadata": {},
     "output_type": "execute_result"
    }
   ],
   "source": [
    "events_block2 = loadtxt('events_block2.csv', delimiter=',')\n",
    "events_block2 = np.int8(events_block2)\n",
    "events_block2.shape"
   ]
  },
  {
   "cell_type": "code",
   "execution_count": 19,
   "id": "76387bfd-42e8-4e34-9928-5cb2d0227306",
   "metadata": {},
   "outputs": [
    {
     "data": {
      "text/plain": [
       "(265,)"
      ]
     },
     "execution_count": 19,
     "metadata": {},
     "output_type": "execute_result"
    }
   ],
   "source": [
    "events_block3 = loadtxt('events_block3.csv', delimiter=',')\n",
    "events_block3 = np.int8(events_block3)\n",
    "events_block3.shape"
   ]
  },
  {
   "cell_type": "code",
   "execution_count": 20,
   "id": "5565cd70-e315-48a3-9e72-854f17f018a6",
   "metadata": {},
   "outputs": [
    {
     "data": {
      "text/plain": [
       "(236,)"
      ]
     },
     "execution_count": 20,
     "metadata": {},
     "output_type": "execute_result"
    }
   ],
   "source": [
    "events_block4 = loadtxt('events_block4.csv', delimiter=',')\n",
    "events_block4 = np.int8(events_block4)\n",
    "events_block4.shape"
   ]
  },
  {
   "cell_type": "code",
   "execution_count": 21,
   "id": "6b03a90f-a5b3-4d76-b845-b7b091883398",
   "metadata": {},
   "outputs": [],
   "source": [
    "events[0:294,2] = events_block1\n",
    "events[295:550,2] = events_block2\n",
    "events[550:815,2] = events_block3\n",
    "events[550:815,2] = events_block3\n",
    "events[815:1051,2] = events_block4"
   ]
  },
  {
   "cell_type": "code",
   "execution_count": 22,
   "id": "01615c1c-a882-4d53-9343-f0161659e213",
   "metadata": {},
   "outputs": [
    {
     "data": {
      "text/plain": [
       "(1051, 3)"
      ]
     },
     "execution_count": 22,
     "metadata": {},
     "output_type": "execute_result"
    }
   ],
   "source": [
    "events.shape"
   ]
  },
  {
   "cell_type": "code",
   "execution_count": 24,
   "id": "2d110e06-5a90-438d-99b1-c27c8bc45040",
   "metadata": {},
   "outputs": [],
   "source": [
    "event_id = {\n",
    "    \"easy/blue_urn\": 1,\n",
    "    \"easy/green_urn\": 2,\n",
    "    \"diff/blue_urn\": 3,\n",
    "    \"diff/green_urn\": 4,\n",
    "    \"resprp\": 5,\n",
    "    \"bu\": 6,\n",
    "    \"gu\": 7,\n",
    "    \"draw\": 8,\n",
    "    \"conf_scrn\": 9,\n",
    "    \"rate_1\": 10,\n",
    "    \"feed_1\": 14,\n",
    "    \"feed_2\": 15,\n",
    "    \"cond1\": 100,\n",
    "    \"cond2\": 101,\n",
    "    \"start\": 102,\n",
    "    \"end\": 103,\n",
    "}"
   ]
  },
  {
   "cell_type": "code",
   "execution_count": 25,
   "id": "52102656-d89c-473b-a9b4-88f367ab519d",
   "metadata": {},
   "outputs": [
    {
     "name": "stdout",
     "output_type": "stream",
     "text": [
      "Filtering raw data in 4 contiguous segments\n",
      "Setting up band-pass filter from 1 - 20 Hz\n",
      "\n",
      "FIR filter parameters\n",
      "---------------------\n",
      "Designing a one-pass, zero-phase, non-causal bandpass filter:\n",
      "- Windowed time-domain design (firwin) method\n",
      "- Hamming window with 0.0194 passband ripple and 53 dB stopband attenuation\n",
      "- Lower passband edge: 1.00\n",
      "- Lower transition bandwidth: 1.00 Hz (-6 dB cutoff frequency: 0.50 Hz)\n",
      "- Upper passband edge: 20.00 Hz\n",
      "- Upper transition bandwidth: 5.00 Hz (-6 dB cutoff frequency: 22.50 Hz)\n",
      "- Filter length: 6759 samples (3.300 sec)\n",
      "\n"
     ]
    },
    {
     "data": {
      "text/plain": [
       "<MNEBrowseFigure size 2870x1570 with 4 Axes>"
      ]
     },
     "execution_count": 25,
     "metadata": {},
     "output_type": "execute_result"
    },
    {
     "name": "stdout",
     "output_type": "stream",
     "text": [
      "Channels marked as bad: none\n"
     ]
    }
   ],
   "source": [
    "# filtered = raw.copy().filter(l_freq=8, h_freq=35)\n",
    "# filtered = raw.copy().filter(l_freq=7., h_freq=30.) \n",
    "filtered = raw.copy().filter(l_freq=1, h_freq=20) \n",
    "\n",
    "filtered.plot(title='filtered')\n",
    "#filtered2.plot(title='filtered2')"
   ]
  },
  {
   "cell_type": "code",
   "execution_count": 26,
   "id": "29fbf364-439b-40d4-b44a-0def7484e467",
   "metadata": {},
   "outputs": [
    {
     "name": "stderr",
     "output_type": "stream",
     "text": [
      "/var/folders/y9/8l766x2s6ygf85x6486_m0040000gn/T/ipykernel_1162/1026940924.py:1: DeprecationWarning: Version 0.23 introduced max_iter=\"auto\", setting max_iter=1000 for `fastica` and max_iter=500 for `infomax` and `picard`. The current default of max_iter=200 will be changed to \"auto\" in version 0.24.\n",
      "  ica = mne.preprocessing.ICA(n_components=20, random_state=0)\n"
     ]
    },
    {
     "name": "stdout",
     "output_type": "stream",
     "text": [
      "Fitting ICA to data using 70 channels (please be patient, this may take a while)\n",
      "Selecting by number: 20 components\n",
      "Fitting ICA took 153.6s.\n",
      "Creating RawArray with float64 data, n_channels=20, n_times=3137536\n",
      "    Range : 0 ... 3137535 =      0.000 ...  1532.000 secs\n",
      "Ready.\n"
     ]
    },
    {
     "data": {
      "text/plain": [
       "<MNEBrowseFigure size 2870x1570 with 4 Axes>"
      ]
     },
     "execution_count": 26,
     "metadata": {},
     "output_type": "execute_result"
    }
   ],
   "source": [
    "ica = mne.preprocessing.ICA(n_components=20, random_state=0)\n",
    "ica.fit(filtered.copy())\n",
    "filtered.load_data()\n",
    "ica.plot_sources(filtered, show_scrollbars=False)"
   ]
  },
  {
   "cell_type": "code",
   "execution_count": 27,
   "id": "e61c2727-bc54-42b5-a662-fd5cc674c17c",
   "metadata": {},
   "outputs": [
    {
     "name": "stdout",
     "output_type": "stream",
     "text": [
      "Applying ICA to Raw instance\n",
      "    Transforming to ICA space (20 components)\n",
      "    Zeroing out 5 ICA components\n",
      "    Projecting back using 70 PCA components\n"
     ]
    },
    {
     "data": {
      "text/plain": [
       "<MNEBrowseFigure size 2870x1570 with 4 Axes>"
      ]
     },
     "execution_count": 27,
     "metadata": {},
     "output_type": "execute_result"
    },
    {
     "name": "stdout",
     "output_type": "stream",
     "text": [
      "Channels marked as bad: none\n"
     ]
    }
   ],
   "source": [
    "# ica.exclude = [0, 1, 6, 8, 9, 10] \n",
    "ica.exclude = [0,3,8,9,11] \n",
    "ica.apply(filtered, exclude=ica.exclude).plot(events = events, event_id = event_id)"
   ]
  },
  {
   "cell_type": "code",
   "execution_count": 28,
   "id": "744bc8f7-253b-4307-b581-ccc1309018d4",
   "metadata": {},
   "outputs": [],
   "source": [
    "# create mapping dict \n",
    "mapping = {'EXG5': 'eog', 'EXG6': 'eog'}\n",
    "ref_channels = ['EXG1', 'EXG2']"
   ]
  },
  {
   "cell_type": "code",
   "execution_count": 31,
   "id": "25b1c3b7-300e-4b99-bc0b-b44f05dd5738",
   "metadata": {},
   "outputs": [
    {
     "name": "stdout",
     "output_type": "stream",
     "text": [
      "EEG channel type selected for re-referencing\n",
      "Applying a custom EEG reference.\n"
     ]
    },
    {
     "data": {
      "text/html": [
       "\n",
       "\n",
       "<table class=\"table table-hover\">\n",
       "    <tr>\n",
       "        <th>Measurement date</th>\n",
       "        <td>October 14, 2021  18:29:12 GMT</td>\n",
       "        \n",
       "    </tr>\n",
       "    <tr>\n",
       "        <th>Experimenter</th>\n",
       "<td>Unknown</td>\n",
       "    </tr>\n",
       "        <th>Participant</th>\n",
       "<td>Unknown</td>\n",
       "    </tr>\n",
       "    <tr>\n",
       "        <th>Digitized points</th>\n",
       "        <td>Not available</td>\n",
       "    </tr>\n",
       "    <tr>\n",
       "        <th>Good channels</th>\n",
       "        <td>0 magnetometer, 0 gradiometer,\n",
       "            and 70 EEG channels</td>\n",
       "    </tr>\n",
       "    <tr>\n",
       "        <th>Bad channels</th>\n",
       "        <td></td>\n",
       "        \n",
       "    </tr>\n",
       "    <tr>\n",
       "        <th>EOG channels</th>\n",
       "        <td>Not available</td>\n",
       "    </tr>\n",
       "    <tr>\n",
       "        <th>ECG channels</th>\n",
       "        <td>Not available</td>\n",
       "    <tr>\n",
       "        <th>Sampling frequency</th>\n",
       "        <td>2048.00 Hz</td>\n",
       "    </tr>\n",
       "    <tr>\n",
       "        <th>Highpass</th>\n",
       "        <td>1.00 Hz</td>\n",
       "    </tr>\n",
       "     <tr>\n",
       "        <th>Lowpass</th>\n",
       "        <td>20.00 Hz</td>\n",
       "    </tr>\n",
       "\n",
       "    <tr>\n",
       "        <th>Filenames</th>\n",
       "        <td>sub_test_01.bdf, sub_test_01_block_02.bdf, sub_test_01_block_03.bdf, sub_test_01_block_04.bdf</td>\n",
       "    </tr>\n",
       "    <tr>\n",
       "        <th>Duration</th>\n",
       "        <td>00:25:31 (HH:MM:SS)</td>\n",
       "    </tr>\n",
       "</table>\n"
      ],
      "text/plain": [
       "<RawEDF | sub_test_01.bdf, 71 x 3137536 (1532.0 s), ~1.66 GB, data loaded>"
      ]
     },
     "execution_count": 31,
     "metadata": {},
     "output_type": "execute_result"
    }
   ],
   "source": [
    "filtered.set_eeg_reference(ref_channels)"
   ]
  },
  {
   "cell_type": "code",
   "execution_count": 32,
   "id": "873b6d8c-08b3-4360-9a57-7236a0eb073d",
   "metadata": {},
   "outputs": [
    {
     "data": {
      "text/plain": [
       "<MNEBrowseFigure size 2870x1570 with 4 Axes>"
      ]
     },
     "execution_count": 32,
     "metadata": {},
     "output_type": "execute_result"
    },
    {
     "name": "stdout",
     "output_type": "stream",
     "text": [
      "Channels marked as bad: none\n"
     ]
    }
   ],
   "source": [
    "filtered.plot(events = events, event_id = event_id)"
   ]
  },
  {
   "cell_type": "code",
   "execution_count": 33,
   "id": "bee72f17-42a4-42d5-a133-a40ec09d7fd1",
   "metadata": {},
   "outputs": [
    {
     "data": {
      "text/plain": [
       "array([    1,     2,     3,     4,     5,     6,     7,     8,     9,\n",
       "          10,    14,    15,   100,   101,   102,   103, 65536])"
      ]
     },
     "execution_count": 33,
     "metadata": {},
     "output_type": "execute_result"
    }
   ],
   "source": [
    "np.unique(events[:, -1])"
   ]
  },
  {
   "cell_type": "code",
   "execution_count": 34,
   "id": "93d24fe2-a61e-4163-a934-438e604ad301",
   "metadata": {},
   "outputs": [
    {
     "name": "stdout",
     "output_type": "stream",
     "text": [
      "Not setting metadata\n",
      "Not setting metadata\n",
      "1050 matching events found\n",
      "Setting baseline interval to [-0.2998046875, 0.0] sec\n",
      "Applying baseline correction (mode: mean)\n",
      "0 projection items activated\n",
      "Loading data for 1050 events and 2253 original time points ...\n",
      "0 bad epochs dropped\n"
     ]
    },
    {
     "name": "stderr",
     "output_type": "stream",
     "text": [
      "/var/folders/y9/8l766x2s6ygf85x6486_m0040000gn/T/ipykernel_1162/59780400.py:2: RuntimeWarning: More events than default colors available. You should pass a list of unique colors.\n",
      "  fig = stimulus_epochs.plot(events = events, event_id = event_id)\n"
     ]
    },
    {
     "name": "stdout",
     "output_type": "stream",
     "text": [
      "Dropped 0 epochs: \n",
      "Channels marked as bad: none\n"
     ]
    }
   ],
   "source": [
    "stimulus_epochs = mne.Epochs(filtered, events, event_id=event_id, tmin=-0.3, tmax=0.8, preload=True)\n",
    "fig = stimulus_epochs.plot(events = events, event_id = event_id)"
   ]
  },
  {
   "cell_type": "code",
   "execution_count": 35,
   "id": "e5db74ef-7c33-4ecf-8f6f-3393dce3e830",
   "metadata": {},
   "outputs": [],
   "source": [
    "diff_epochs = stimulus_epochs['diff'].average()\n",
    "easy_epochs = stimulus_epochs['easy'].average()"
   ]
  },
  {
   "cell_type": "code",
   "execution_count": 36,
   "id": "011d1736-b4f6-4634-9daa-61cd0fb80ffb",
   "metadata": {},
   "outputs": [],
   "source": [
    "diff_bu = stimulus_epochs['diff/blue_urn'].average()\n",
    "easy_bu = stimulus_epochs['easy/blue_urn'].average()"
   ]
  },
  {
   "cell_type": "code",
   "execution_count": 48,
   "id": "07df4e06-6fbb-42c9-aaf7-295bed15c64f",
   "metadata": {},
   "outputs": [],
   "source": [
    "diff_gu = stimulus_epochs['diff/green_urn'].average()\n",
    "easy_gu = stimulus_epochs['easy/green_urn'].average()"
   ]
  },
  {
   "cell_type": "code",
   "execution_count": 37,
   "id": "af9e8a0b-e09c-4b86-b682-b29289f555b8",
   "metadata": {},
   "outputs": [
    {
     "name": "stderr",
     "output_type": "stream",
     "text": [
      "/var/folders/y9/8l766x2s6ygf85x6486_m0040000gn/T/ipykernel_1162/2031344565.py:2: RuntimeWarning: Channel locations not available. Disabling spatial colors.\n",
      "  fig2 = easy_bu.plot(spatial_colors=True)\n"
     ]
    }
   ],
   "source": [
    "fig1 = diff_bu.plot()\n",
    "fig2 = easy_bu.plot(spatial_colors=True)"
   ]
  },
  {
   "cell_type": "code",
   "execution_count": 38,
   "id": "f50c6e4e-5d3b-4b88-8676-228f353d17b5",
   "metadata": {},
   "outputs": [],
   "source": [
    "frontal_left = ['F1', 'F3', 'F5', 'F7']\n",
    "frontal_right = ['F2', 'F4', 'F6', 'F8']"
   ]
  },
  {
   "cell_type": "code",
   "execution_count": 39,
   "id": "fda66056-fdce-4dd6-8a6f-2e4c5b54f61f",
   "metadata": {},
   "outputs": [],
   "source": [
    "parietal_left = ['P1', 'P3', 'P5', 'P7']\n",
    "parietal_right = ['P2', 'P4', 'P6', 'P8']"
   ]
  },
  {
   "cell_type": "code",
   "execution_count": 40,
   "id": "40e3af1e-e6ac-45b3-8d97-17dcf95c9ddf",
   "metadata": {},
   "outputs": [],
   "source": [
    "frontal_total = ['F1', 'F3', 'F5', 'F7', 'F2', 'F4', 'F6', 'F8', 'Fz']\n",
    "parietal_total = ['P1', 'P3', 'P5', 'P7', 'P2', 'P4', 'P6', 'P8', 'P9', 'P10', 'Pz']"
   ]
  },
  {
   "cell_type": "code",
   "execution_count": 41,
   "id": "9e10f753-61d7-4362-9cab-70e580daff23",
   "metadata": {},
   "outputs": [],
   "source": [
    "diff_frontal_ix = mne.pick_channels(diff_bu.info['ch_names'], include=frontal_total)\n",
    "easy_frontal_ix = mne.pick_channels(easy_bu.info['ch_names'], include=frontal_total)"
   ]
  },
  {
   "cell_type": "code",
   "execution_count": 42,
   "id": "f5df9e1f-6e9c-413e-b7e6-f19fab4e069a",
   "metadata": {},
   "outputs": [],
   "source": [
    "diff_parietal_ix = mne.pick_channels(diff_bu.info['ch_names'], include=parietal_total)\n",
    "easy_parietal_ix = mne.pick_channels(easy_bu.info['ch_names'], include=parietal_total)"
   ]
  },
  {
   "cell_type": "code",
   "execution_count": 43,
   "id": "4001f65a-af16-496c-9f68-cac839871c88",
   "metadata": {},
   "outputs": [
    {
     "name": "stdout",
     "output_type": "stream",
     "text": [
      "['diff_frontal_ROI', 'diff_parietal_ROI']\n"
     ]
    },
    {
     "data": {
      "text/plain": [
       "<Figure size 1280x600 with 1 Axes>"
      ]
     },
     "execution_count": 43,
     "metadata": {},
     "output_type": "execute_result"
    }
   ],
   "source": [
    "diff_roi_dict = dict(diff_frontal_ROI=diff_frontal_ix, diff_parietal_ROI=diff_parietal_ix)\n",
    "roi_evoked = mne.channels.combine_channels(diff_bu, diff_roi_dict, method='mean')\n",
    "print(roi_evoked.info['ch_names'])\n",
    "roi_evoked.plot()"
   ]
  },
  {
   "cell_type": "code",
   "execution_count": 44,
   "id": "b681115b-47d8-4dde-9c17-cfa8367b0d05",
   "metadata": {},
   "outputs": [
    {
     "name": "stdout",
     "output_type": "stream",
     "text": [
      "['easy_frontal_ROI', 'easy_parietal_ROI']\n"
     ]
    },
    {
     "data": {
      "text/plain": [
       "<Figure size 1280x600 with 1 Axes>"
      ]
     },
     "execution_count": 44,
     "metadata": {},
     "output_type": "execute_result"
    }
   ],
   "source": [
    "easy_roi_dict = dict(easy_frontal_ROI=easy_frontal_ix, easy_parietal_ROI=easy_parietal_ix)\n",
    "roi_evoked = mne.channels.combine_channels(easy_bu, easy_roi_dict, method='mean')\n",
    "print(roi_evoked.info['ch_names'])\n",
    "roi_evoked.plot()"
   ]
  },
  {
   "cell_type": "code",
   "execution_count": 58,
   "id": "8cff78f1-e02c-4cda-a9f7-aa61975ac152",
   "metadata": {},
   "outputs": [
    {
     "name": "stdout",
     "output_type": "stream",
     "text": [
      "More than 6 channels, truncating title ...\n",
      "combining channels using \"mean\"\n",
      "combining channels using \"mean\"\n"
     ]
    },
    {
     "data": {
      "text/plain": [
       "[<Figure size 2878x1200 with 1 Axes>]"
      ]
     },
     "execution_count": 58,
     "metadata": {},
     "output_type": "execute_result"
    }
   ],
   "source": [
    "evokeds = dict(diff_frontal=diff_epochs, easy_frontal=easy_epochs)\n",
    "picks = [f'F{n}' for n in range(1,9)]\n",
    "mne.viz.plot_compare_evokeds(evokeds, picks=picks, combine='mean')"
   ]
  },
  {
   "cell_type": "code",
   "execution_count": 56,
   "id": "f2ea0e74-4331-46f1-bd2d-57e375efb0f9",
   "metadata": {},
   "outputs": [
    {
     "name": "stdout",
     "output_type": "stream",
     "text": [
      "More than 6 channels, truncating title ...\n",
      "combining channels using \"mean\"\n",
      "combining channels using \"mean\"\n"
     ]
    },
    {
     "data": {
      "text/plain": [
       "[<Figure size 2880x1200 with 1 Axes>]"
      ]
     },
     "execution_count": 56,
     "metadata": {},
     "output_type": "execute_result"
    }
   ],
   "source": [
    "evokeds = dict(diff_parietal=diff_epochs, easy_parietal=easy_epochs)\n",
    "picks = [f'P{n}' for n in range(1,9)]\n",
    "mne.viz.plot_compare_evokeds(evokeds, picks=picks, combine='mean')"
   ]
  },
  {
   "cell_type": "code",
   "execution_count": 59,
   "id": "b324f233-93f4-4de8-acb2-bbe2632ee7db",
   "metadata": {},
   "outputs": [
    {
     "name": "stdout",
     "output_type": "stream",
     "text": [
      "More than 6 channels, truncating title ...\n",
      "combining channels using \"mean\"\n",
      "combining channels using \"mean\"\n"
     ]
    },
    {
     "data": {
      "text/plain": [
       "[<Figure size 2860x1200 with 1 Axes>]"
      ]
     },
     "execution_count": 59,
     "metadata": {},
     "output_type": "execute_result"
    }
   ],
   "source": [
    "evokeds = dict(diff_frontal=diff_bu, easy_frontal=easy_bu)\n",
    "picks = [f'F{n}' for n in range(1,9)]\n",
    "mne.viz.plot_compare_evokeds(evokeds, picks=picks, combine='mean')"
   ]
  },
  {
   "cell_type": "code",
   "execution_count": 57,
   "id": "e2e7c168-9667-4433-a601-78a92b57e78a",
   "metadata": {},
   "outputs": [
    {
     "name": "stdout",
     "output_type": "stream",
     "text": [
      "More than 6 channels, truncating title ...\n",
      "combining channels using \"mean\"\n",
      "combining channels using \"mean\"\n"
     ]
    },
    {
     "data": {
      "text/plain": [
       "[<Figure size 2880x1200 with 1 Axes>]"
      ]
     },
     "execution_count": 57,
     "metadata": {},
     "output_type": "execute_result"
    }
   ],
   "source": [
    "evokeds = dict(diff_parietal=diff_bu, easy_parietal=easy_bu)\n",
    "picks = [f'P{n}' for n in range(1,9)]\n",
    "mne.viz.plot_compare_evokeds(evokeds, picks=picks, combine='mean')"
   ]
  },
  {
   "cell_type": "code",
   "execution_count": 51,
   "id": "702d1379-34b0-4947-82ae-16c368b61ec5",
   "metadata": {},
   "outputs": [
    {
     "name": "stdout",
     "output_type": "stream",
     "text": [
      "More than 6 channels, truncating title ...\n",
      "combining channels using \"mean\"\n",
      "combining channels using \"mean\"\n"
     ]
    },
    {
     "data": {
      "text/plain": [
       "[<Figure size 2880x1200 with 1 Axes>]"
      ]
     },
     "execution_count": 51,
     "metadata": {},
     "output_type": "execute_result"
    }
   ],
   "source": [
    "evokeds = dict(diff_frontal=diff_gu, easy_frontal=easy_gu)\n",
    "picks = [f'F{n}' for n in range(1,9)]\n",
    "mne.viz.plot_compare_evokeds(evokeds, picks=picks, combine='mean')"
   ]
  },
  {
   "cell_type": "code",
   "execution_count": 52,
   "id": "08a8c8e2-7ae5-4f46-9502-db7acbbe2d0a",
   "metadata": {},
   "outputs": [
    {
     "name": "stdout",
     "output_type": "stream",
     "text": [
      "More than 6 channels, truncating title ...\n",
      "combining channels using \"mean\"\n",
      "combining channels using \"mean\"\n"
     ]
    },
    {
     "data": {
      "text/plain": [
       "[<Figure size 2880x1200 with 1 Axes>]"
      ]
     },
     "execution_count": 52,
     "metadata": {},
     "output_type": "execute_result"
    }
   ],
   "source": [
    "evokeds = dict(diff_parietal=diff_gu, easy_parietal=easy_gu)\n",
    "picks = [f'P{n}' for n in range(1,9)]\n",
    "mne.viz.plot_compare_evokeds(evokeds, picks=picks, combine='mean')"
   ]
  },
  {
   "cell_type": "code",
   "execution_count": null,
   "id": "f2d33168-46b0-4087-a947-9b4313382270",
   "metadata": {},
   "outputs": [],
   "source": []
  }
 ],
 "metadata": {
  "kernelspec": {
   "display_name": "Python 3 (ipykernel)",
   "language": "python",
   "name": "python3"
  },
  "language_info": {
   "codemirror_mode": {
    "name": "ipython",
    "version": 3
   },
   "file_extension": ".py",
   "mimetype": "text/x-python",
   "name": "python",
   "nbconvert_exporter": "python",
   "pygments_lexer": "ipython3",
   "version": "3.8.9"
  }
 },
 "nbformat": 4,
 "nbformat_minor": 5
}
