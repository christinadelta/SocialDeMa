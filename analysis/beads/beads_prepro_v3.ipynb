{
 "cells": [
  {
   "cell_type": "markdown",
   "id": "8c8af76c-4a8b-44ce-98c3-8c77a7533608",
   "metadata": {},
   "source": [
    "### Load libraries"
   ]
  },
  {
   "cell_type": "code",
   "execution_count": null,
   "id": "4c5fed06-606f-4bdd-9320-a612fdde349b",
   "metadata": {},
   "outputs": [],
   "source": [
    "# import matplotlib.pyplot as plt\n",
    "import pathlib\n",
    "import mne\n",
    "from mne.preprocessing import create_ecg_epochs, create_eog_epochs\n",
    "from mne.time_frequency import tfr_morlet, psd_multitaper, psd_welch\n",
    "from mne.channels.montage import get_builtin_montages\n",
    "from mne.io import read_raw_bdf, concatenate_raws\n",
    "import os\n",
    "import numpy as np\n",
    "from numpy import savetxt\n",
    "from numpy import loadtxt\n",
    "\n",
    "import matplotlib\n",
    "matplotlib.use('Qt5Agg')"
   ]
  },
  {
   "cell_type": "markdown",
   "id": "aa093a1b-233d-465b-99fc-3c9237b88616",
   "metadata": {},
   "source": [
    "### Load data"
   ]
  },
  {
   "cell_type": "code",
   "execution_count": null,
   "id": "104aa144-2f4a-4d70-aa13-a8df2eed4d03",
   "metadata": {},
   "outputs": [],
   "source": [
    "data_folder = '/Users/christinadelta/Desktop/beads_pilot/beads'\n",
    "raw_file = os.path.join(data_folder, 'sub_test_01.bdf')\n",
    "\n",
    "raw1 = read_raw_bdf(raw_file, eog=['EXG3', 'EXG4','EXG5', 'EXG6'], stim_channel='auto', \n",
    "                    exclude=(['EXG7', 'EXG8', 'GSR1', 'GSR2', 'Erg1', 'Erg2', 'Resp', 'Plet', 'Temp']), \n",
    "                    preload=True)\n",
    "\n",
    "raw2_file = os.path.join(data_folder, 'sub_test_01_block_02.bdf')\n",
    "raw2 = read_raw_bdf(raw2_file, eog=['EXG3', 'EXG4','EXG5', 'EXG6'], stim_channel='auto', exclude=(['EXG7', 'EXG8']),\n",
    "                    preload=True)\n",
    "\n",
    "raw3_file = os.path.join(data_folder, 'sub_test_01_block_03.bdf')\n",
    "raw3 = read_raw_bdf(raw3_file, eog=['EXG3', 'EXG4','EXG5', 'EXG6'], stim_channel='auto', exclude=(['EXG7', 'EXG8']),\n",
    "                    preload=True)\n",
    "\n",
    "raw4_file = os.path.join(data_folder, 'sub_test_01_block_04.bdf')\n",
    "raw4 = read_raw_bdf(raw4_file, eog=['EXG3', 'EXG4','EXG5', 'EXG6'], stim_channel='auto', exclude=(['EXG7', 'EXG8']),\n",
    "                    preload=True)"
   ]
  },
  {
   "cell_type": "markdown",
   "id": "b95bf11d-9ba8-43ff-84de-a382312d6d97",
   "metadata": {},
   "source": [
    "### Concatinate the different raw files"
   ]
  },
  {
   "cell_type": "code",
   "execution_count": null,
   "id": "7e282883-ffc4-425d-9d14-ea4be6a7db9a",
   "metadata": {},
   "outputs": [],
   "source": [
    "raws = [] # create empty list to store the raws\n",
    "\n",
    "raws.append(raw1)\n",
    "raws.append(raw2)\n",
    "raws.append(raw3)\n",
    "raws.append(raw4)\n",
    "raws\n",
    "\n",
    "# concatinate\n",
    "raw = concatenate_raws(raws)"
   ]
  },
  {
   "cell_type": "code",
   "execution_count": null,
   "id": "1473fefb-29d0-4428-aedc-8f8e601d979c",
   "metadata": {},
   "outputs": [],
   "source": [
    "raw.plot()"
   ]
  },
  {
   "cell_type": "markdown",
   "id": "3f3f6ead-7656-4599-85c3-38823c4666f0",
   "metadata": {},
   "source": [
    "### Load the events"
   ]
  },
  {
   "cell_type": "code",
   "execution_count": null,
   "id": "6321063c-b025-42ea-a166-ae1accf506f4",
   "metadata": {},
   "outputs": [],
   "source": [
    "events = mne.find_events(raw)\n",
    "\n",
    "events1 = events[0:294]\n",
    "events1.shape\n",
    "\n",
    "events2 = events[295:550]\n",
    "events2.shape\n",
    "\n",
    "events3 = events[550:815]\n",
    "events3.shape\n",
    "\n",
    "events4 = events[815:1051]\n",
    "events4.shape"
   ]
  },
  {
   "cell_type": "code",
   "execution_count": null,
   "id": "edc05ee2-59a4-460a-a6c2-bd68270c4cf0",
   "metadata": {},
   "outputs": [],
   "source": [
    "events_block1 = loadtxt('newevents.csv', delimiter=',')\n",
    "events_block1 = np.int8(events_block1)\n",
    "events_block1.shape\n",
    "\n",
    "events_block2 = loadtxt('events_block2.csv', delimiter=',')\n",
    "events_block2 = np.int8(events_block2)\n",
    "events_block2.shape\n",
    "\n",
    "events_block3 = loadtxt('events_block3.csv', delimiter=',')\n",
    "events_block3 = np.int8(events_block3)\n",
    "events_block3.shape\n",
    "\n",
    "events_block4 = loadtxt('events_block4.csv', delimiter=',')\n",
    "events_block4 = np.int8(events_block4)\n",
    "events_block4.shape\n",
    "\n",
    "events[0:294,2] = events_block1\n",
    "events[295:550,2] = events_block2\n",
    "events[550:815,2] = events_block3\n",
    "events[815:1051,2] = events_block4\n",
    "\n",
    "events.shape"
   ]
  },
  {
   "cell_type": "code",
   "execution_count": null,
   "id": "f20a40da-e48a-4e61-99dd-93b952085a4e",
   "metadata": {},
   "outputs": [],
   "source": [
    "event_id = {\n",
    "    \"easy/blue_urn\": 1,\n",
    "    \"easy/green_urn\": 2,\n",
    "    \"diff/blue_urn\": 3,\n",
    "    \"diff/green_urn\": 4,\n",
    "    \"resprp\": 5,\n",
    "    \"bu\": 6,\n",
    "    \"gu\": 7,\n",
    "    \"draw\": 8,\n",
    "    \"conf_scrn\": 9,\n",
    "    \"rate_1\": 10,\n",
    "    \"feed_1\": 14,\n",
    "    \"feed_2\": 15,\n",
    "    \"cond1\": 100,\n",
    "    \"cond2\": 101,\n",
    "    \"start\": 102,\n",
    "    \"end\": 103,\n",
    "}"
   ]
  },
  {
   "cell_type": "markdown",
   "id": "0002e210-b5c7-4b3b-a639-7a5057edaadf",
   "metadata": {},
   "source": [
    "### Filter data, re-reference and run ICA"
   ]
  },
  {
   "cell_type": "code",
   "execution_count": null,
   "id": "c39a5cd4-484b-4c6d-98a1-bfbe93b48416",
   "metadata": {},
   "outputs": [],
   "source": [
    "filtered = raw.copy().filter(l_freq=1, h_freq=20) \n",
    "\n",
    "filtered.plot(title='filtered')\n",
    "#filtered2.plot(title='filtered2')"
   ]
  },
  {
   "cell_type": "code",
   "execution_count": null,
   "id": "27bc6ed0-b66a-4d0c-98ac-c71062dc1c68",
   "metadata": {},
   "outputs": [],
   "source": [
    "# re-reference\n",
    "ref_channels = ['EXG1', 'EXG2']\n",
    "filtered.set_eeg_reference(ref_channels)"
   ]
  },
  {
   "cell_type": "markdown",
   "id": "1a46015f-ae08-4c31-a861-0d056f57cb5d",
   "metadata": {},
   "source": [
    "### Add montage (Biosemi64) for topomaps"
   ]
  },
  {
   "cell_type": "code",
   "execution_count": null,
   "id": "d1e4c01b-1c15-465e-9844-8d580ad5f32e",
   "metadata": {},
   "outputs": [],
   "source": [
    "biosemi_montage = mne.channels.make_standard_montage('biosemi64')\n",
    "filtered.set_channel_types({'EXG1': 'misc', 'EXG2': 'misc'})\n",
    "filtered_montage = filtered.copy().set_montage(biosemi_montage, on_missing='warn')\n",
    "filtered_montage.plot()"
   ]
  },
  {
   "cell_type": "code",
   "execution_count": null,
   "id": "087f4cb5-e75d-45d2-8ccf-0149e83352ae",
   "metadata": {},
   "outputs": [],
   "source": [
    "#ica = mne.preprocessing.ICA(n_components=20, random_state=0)\n",
    "#ica.fit(filtered_montage)\n",
    "#filtered_montage.load_data()\n",
    "# ica.plot_sources(filtered, show_scrollbars=False)\n",
    "ica.plot_components()"
   ]
  },
  {
   "cell_type": "code",
   "execution_count": null,
   "id": "1f878394-f496-45e4-a5a4-acd688252381",
   "metadata": {},
   "outputs": [],
   "source": [
    "ica.plot_sources(filtered_montage, show_scrollbars=True)"
   ]
  },
  {
   "cell_type": "code",
   "execution_count": null,
   "id": "2609e336-d641-4644-b16f-3468a2ffd33c",
   "metadata": {},
   "outputs": [],
   "source": [
    "# try the find_bads_eog() algorithm \n",
    "bad_idx, scores = ica.find_bads_eog(filtered_montage, ch_name=(['EXG3','EXG4','EXG5','EXG6']), threshold=2)\n",
    "print(bad_idx)"
   ]
  },
  {
   "cell_type": "code",
   "execution_count": null,
   "id": "531951ae-e957-4d0c-9240-d7dfdcafffb9",
   "metadata": {},
   "outputs": [],
   "source": [
    "# ica.exclude = [0, 1, 6, 8, 9, 10] \n",
    "ica.exclude = bad_idx \n",
    "ica.apply(filtered_montage, exclude=ica.exclude).plot(events = events, event_id = event_id)"
   ]
  },
  {
   "cell_type": "markdown",
   "id": "793c2c8f-6c35-4e11-bac1-65be43ab0819",
   "metadata": {},
   "source": [
    "### Epoch the data"
   ]
  },
  {
   "cell_type": "code",
   "execution_count": null,
   "id": "c86f6e67-2a6b-4980-8666-6c8a9fcc47c2",
   "metadata": {},
   "outputs": [],
   "source": [
    "stimulus_epochs = mne.Epochs(filtered_montage, events, event_id=event_id, tmin=-0.3, tmax=0.8, preload=True)\n",
    "fig = stimulus_epochs.plot(events = events, event_id = event_id)"
   ]
  },
  {
   "cell_type": "code",
   "execution_count": null,
   "id": "93be3a01-e0ed-4414-91c7-f1406692ac44",
   "metadata": {},
   "outputs": [],
   "source": [
    "# Downsample to 100 Hz\n",
    "print('Original sampling rate:', stimulus_epochs.info['sfreq'], 'Hz')\n",
    "epochs_resampled = stimulus_epochs.resample(500, npad=\"auto\")\n",
    "print('New sampling rate:', epochs_resampled.info['sfreq'], 'Hz')"
   ]
  },
  {
   "cell_type": "markdown",
   "id": "d3769999-da0a-4717-be89-6b58be790a78",
   "metadata": {},
   "source": [
    "### Look at Average ERPs"
   ]
  },
  {
   "cell_type": "code",
   "execution_count": null,
   "id": "e40f61e7-f7e1-456d-a258-f56f6c61fc9a",
   "metadata": {},
   "outputs": [],
   "source": [
    "stimulus_epochs.info['sfreq']"
   ]
  },
  {
   "cell_type": "code",
   "execution_count": null,
   "id": "f56fb533-8d73-4212-a98f-f85991106abb",
   "metadata": {},
   "outputs": [],
   "source": [
    "diff_epochs = epochs_resampled['diff'].average()\n",
    "easy_epochs = epochs_resampled['easy'].average()"
   ]
  },
  {
   "cell_type": "code",
   "execution_count": null,
   "id": "4e8d65e0-b764-45cd-a0ec-407d0361df8b",
   "metadata": {},
   "outputs": [],
   "source": [
    "fig1 = diff_epochs.plot()\n",
    "fig2 = easy_epochs.plot(spatial_colors=True)"
   ]
  },
  {
   "cell_type": "code",
   "execution_count": null,
   "id": "7ea7981d-5674-49ef-b20f-0609c58697a6",
   "metadata": {},
   "outputs": [],
   "source": [
    "frontal_total = ['F1', 'F3', 'F5', 'F7', 'F2', 'F4', 'F6', 'F8', 'Fz']\n",
    "parietal_total = ['P1', 'P3', 'P5', 'P7', 'P2', 'P4', 'P6', 'P8', 'P10']"
   ]
  },
  {
   "cell_type": "code",
   "execution_count": null,
   "id": "92bc393b-a2d1-4a0f-9936-d68652c259c5",
   "metadata": {},
   "outputs": [],
   "source": [
    "evokeds = dict(diff_frontal=diff_epochs, easy_frontal=easy_epochs)\n",
    "picks = [f'F{n}' for n in range(1,10)]\n",
    "mne.viz.plot_compare_evokeds(evokeds, picks=picks, combine='mean')"
   ]
  },
  {
   "cell_type": "code",
   "execution_count": null,
   "id": "6639acd3-a34b-48a3-981c-6ffbddeeb571",
   "metadata": {},
   "outputs": [],
   "source": [
    "evokeds = dict(diff_parietal=diff_epochs, easy_parietal=easy_epochs)\n",
    "picks = [f'P{n}' for n in range(1,10)]\n",
    "mne.viz.plot_compare_evokeds(evokeds, picks=picks, combine='mean')"
   ]
  },
  {
   "cell_type": "code",
   "execution_count": null,
   "id": "72000075-65f8-435a-9e90-460fba7a7403",
   "metadata": {},
   "outputs": [],
   "source": [
    "# look at topomaps\n",
    "# easy_epochs.plot_topomap(times=[-0.2, 0.2, 0.4, 0.6], average=0.05)\n",
    "diff_epochs.plot_topomap(times=[-0.2, 0.2, 0.4, 0.6], average=0.05)"
   ]
  },
  {
   "cell_type": "code",
   "execution_count": null,
   "id": "7a0532be-474c-401b-9c17-1ddbe45d2cb1",
   "metadata": {},
   "outputs": [],
   "source": [
    "# add joint topomaps\n",
    "# easy_epochs.plot_joint()\n",
    "diff_epochs.plot_joint()"
   ]
  },
  {
   "cell_type": "code",
   "execution_count": null,
   "id": "dcace249-924d-4e2b-8545-31abdd8c71d4",
   "metadata": {},
   "outputs": [],
   "source": [
    "# compare conditions\n",
    "diff_minus_easy = mne.combine_evoked([easy_epochs, diff_epochs], weights=[1, -1])\n",
    "diff_minus_easy.plot_joint()"
   ]
  },
  {
   "cell_type": "markdown",
   "id": "aced3c36-d616-40a2-a6e1-49d7f6ae2db5",
   "metadata": {},
   "source": [
    "### Time-Frequency Analysis"
   ]
  },
  {
   "cell_type": "code",
   "execution_count": null,
   "id": "43baab2f-1253-4652-8b03-6f7d11dc6664",
   "metadata": {},
   "outputs": [],
   "source": [
    "epochs_resampled.info"
   ]
  },
  {
   "cell_type": "code",
   "execution_count": null,
   "id": "24a9208e-6f53-4c7e-b749-b8d7529b5daa",
   "metadata": {},
   "outputs": [],
   "source": [
    "# pick epochs \n",
    "difficult = epochs_resampled['diff']\n",
    "difficult.plot_psd(fmin=2., fmax=40., average=True, bandwidth=2)"
   ]
  },
  {
   "cell_type": "code",
   "execution_count": null,
   "id": "96ada144-fc5f-4b74-8fc3-e82c3a76ed91",
   "metadata": {},
   "outputs": [],
   "source": [
    "# define frequencies of interest (log-spaced)\n",
    "freqs = np.logspace(*np.log10([2, 40]), num=20)\n",
    "freqs"
   ]
  },
  {
   "cell_type": "code",
   "execution_count": null,
   "id": "39fb08ae-39e8-4e55-865e-68ffbc025b8c",
   "metadata": {},
   "outputs": [],
   "source": [
    "# run tf analysis. Also reurn itc (intertrial coherence)\n",
    "n_cycles = freqs / 2.  # different number of cycle per frequency\n",
    "power, itc = mne.time_frequency.tfr_morlet(difficult, freqs=freqs, n_cycles=n_cycles, use_fft=True,\n",
    "                                           return_itc=True, decim=3, n_jobs=1)"
   ]
  },
  {
   "cell_type": "code",
   "execution_count": null,
   "id": "51d5e5fa-10e2-46e3-9864-beb5dbfe45b3",
   "metadata": {},
   "outputs": [],
   "source": [
    "power.crop(-0.1, 0.7)  # crop to remove edge artifacts\n",
    "itc.crop(-0.1, 0.7)  # crop to remove edge artifacts"
   ]
  },
  {
   "cell_type": "markdown",
   "id": "929003fa-2398-474a-8e68-174223f8e222",
   "metadata": {},
   "source": [
    "### Inspect power"
   ]
  },
  {
   "cell_type": "code",
   "execution_count": null,
   "id": "498bb71c-0f6a-4021-a511-d19e364986bc",
   "metadata": {},
   "outputs": [],
   "source": [
    "# specify baseline period\n",
    "baseline_mode = 'logratio'\n",
    "baseline = (None, 0)"
   ]
  },
  {
   "cell_type": "markdown",
   "id": "3deb3fa6-fcab-472e-b076-a50999623036",
   "metadata": {},
   "source": [
    "### Plot power topomaps"
   ]
  },
  {
   "cell_type": "code",
   "execution_count": null,
   "id": "bfe01ba3-f73f-44c1-bc65-1d5120ed308c",
   "metadata": {},
   "outputs": [],
   "source": [
    "(power.copy()\n",
    " .pick_types(eeg=True, meg=False)\n",
    " .plot_topo())"
   ]
  },
  {
   "cell_type": "markdown",
   "id": "c41d27bd-610d-4fb1-88cc-a1f45334a762",
   "metadata": {},
   "source": [
    "### Look at specific channels"
   ]
  },
  {
   "cell_type": "code",
   "execution_count": null,
   "id": "174710c2-1a55-4d71-b421-cf64f388dbc7",
   "metadata": {},
   "outputs": [],
   "source": [
    "power.plot(picks='P2', baseline=baseline, mode=baseline_mode)"
   ]
  },
  {
   "cell_type": "markdown",
   "id": "3f2cbf2c-cce4-4702-a4fe-a47376f35582",
   "metadata": {},
   "source": [
    "### Plot topomaps for specified frequency ranges"
   ]
  },
  {
   "cell_type": "code",
   "execution_count": null,
   "id": "3a21c2ff-1001-4806-a21e-709f0fb0b8e2",
   "metadata": {},
   "outputs": [],
   "source": [
    "import matplotlib.pyplot as plt\n",
    "\n",
    "fig, axis = plt.subplots(1, 3, figsize=(7, 4))\n",
    "power.plot_topomap(ch_type='eeg', tmin=0.3, tmax=0.8, fmin=4, fmax=7,\n",
    "                   baseline=baseline, mode=baseline_mode, axes=axis[0],\n",
    "                   title='Theta', show=False, contours=1)\n",
    "\n",
    "power.plot_topomap(ch_type='eeg', tmin=0.3, tmax=0.8, fmin=8, fmax=12,\n",
    "                   baseline=baseline, mode=baseline_mode, axes=axis[1],\n",
    "                   title='Alpha', show=False, contours=1)\n",
    "\n",
    "power.plot_topomap(ch_type='eeg', tmin=0.3, tmax=1., fmin=15, fmax=30,\n",
    "                   baseline=baseline, mode=baseline_mode, axes=axis[2],\n",
    "                   title='Beta', show=False, contours=1)\n",
    "\n",
    "mne.viz.tight_layout()\n",
    "plt.show()"
   ]
  },
  {
   "cell_type": "markdown",
   "id": "c7638fca-57d2-4655-948c-cb5474ce4dc9",
   "metadata": {},
   "source": [
    "### Joint TF Plot"
   ]
  },
  {
   "cell_type": "code",
   "execution_count": null,
   "id": "4c6e3c3c-16bb-4a04-bb5b-c461ad752ca7",
   "metadata": {},
   "outputs": [],
   "source": [
    "power.plot_joint(baseline=baseline, mode='mean', tmin=None, tmax=None,\n",
    "                 timefreqs=[(0.3, 5), (0.3, 15.)])\n",
    "plt.show()\n"
   ]
  },
  {
   "cell_type": "markdown",
   "id": "954c9004-6497-4a56-9e04-c3a16dfc90d9",
   "metadata": {},
   "source": [
    "### Inspect ITC"
   ]
  },
  {
   "cell_type": "code",
   "execution_count": null,
   "id": "aa79b275-93aa-467a-a249-4ec26241eeab",
   "metadata": {},
   "outputs": [],
   "source": [
    "itc.plot_topo(title='Inter-Trial coherence', vmin=0., vmax=0.5, cmap='Reds')"
   ]
  },
  {
   "cell_type": "code",
   "execution_count": null,
   "id": "193b6643-60f5-42b6-a6b5-f1ede528fd7f",
   "metadata": {},
   "outputs": [],
   "source": []
  }
 ],
 "metadata": {
  "kernelspec": {
   "display_name": "Python 3 (ipykernel)",
   "language": "python",
   "name": "python3"
  },
  "language_info": {
   "codemirror_mode": {
    "name": "ipython",
    "version": 3
   },
   "file_extension": ".py",
   "mimetype": "text/x-python",
   "name": "python",
   "nbconvert_exporter": "python",
   "pygments_lexer": "ipython3",
   "version": "3.8.9"
  }
 },
 "nbformat": 4,
 "nbformat_minor": 5
}
